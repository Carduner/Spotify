{
 "cells": [
  {
   "cell_type": "code",
   "execution_count": 1,
   "id": "34e60082-bd4a-4236-a213-1c9e204c9cd9",
   "metadata": {},
   "outputs": [],
   "source": [
    "import spotipy\n",
    "import pandas as pd\n",
    "import os\n",
    "%run './credentials/settings.py'\n",
    "SPOTIPY_CLIENT_ID = os.getenv(\"SPOTIPY_CLIENT_ID\")\n",
    "SPOTIPY_CLIENT_SECRET = os.getenv(\"SPOTIPY_CLIENT_SECRET\")\n",
    "SPOTIPY_REDIRECT_URI = os.getenv('SPOTIPY_REDIRECT_URI')\n",
    "\n",
    "from spotipy.oauth2 import SpotifyOAuth\n",
    "\n",
    "scope = \"user-library-read\"\n",
    "\n",
    "sp = spotipy.Spotify(auth_manager=SpotifyOAuth(scope=scope))"
   ]
  },
  {
   "cell_type": "code",
   "execution_count": 2,
   "id": "78eabde2-42dd-4f3a-be23-ec17037afc30",
   "metadata": {},
   "outputs": [
    {
     "name": "stdout",
     "output_type": "stream",
     "text": [
      "0 Nic D  –  Fine Apple\n",
      "1 Morray  –  Quicksand\n",
      "2 Tai Verdes  –  DRUGS\n",
      "3 Bobby Sessions  –  All We Got\n",
      "4 Black Thought  –  Thought Vs Everybody\n",
      "5 Ferge X Fisherman  –  Drunk on the Moon\n",
      "6 Lianne La Havas  –  Paper Thin\n",
      "7 Still Woozy  –  Window\n",
      "8 Black Eyed Peas  –  RITMO (Bad Boys For Life)\n",
      "9 A$AP Ferg  –  Dump Dump\n",
      "10 Scott Bradlee's Postmodern Jukebox  –  Harry Potter Jazz Variations\n",
      "11 Ed Sheeran  –  Take Me Back to London (feat. Stormzy)\n",
      "12 LunchMoney Lewis  –  Make That Cake (feat. Doja Cat)\n",
      "13 Anderson .Paak  –  Winners Circle\n",
      "14 JOYRYDE  –  YUCK\n",
      "15 JID  –  Off Deez (with J. Cole)\n",
      "16 SZA  –  Power is Power (feat. The Weeknd & Travis Scott)\n",
      "17 Black Star  –  Astronomy (8th Light)\n",
      "18 Black Star  –  Children's Story\n",
      "19 Black Star  –  Hater Players\n"
     ]
    }
   ],
   "source": [
    "results = sp.current_user_saved_tracks()\n",
    "for idx, item in enumerate(results['items']):\n",
    "    track = item['track']\n",
    "    print(idx, track['artists'][0]['name'], \" – \", track['name'])"
   ]
  },
  {
   "cell_type": "code",
   "execution_count": 3,
   "id": "2114d23c-d16b-4067-b38d-3f72e2be3404",
   "metadata": {},
   "outputs": [
    {
     "data": {
      "text/plain": [
       "'5tWCP4u6SkJhlELH8WQxUR'"
      ]
     },
     "execution_count": 3,
     "metadata": {},
     "output_type": "execute_result"
    }
   ],
   "source": [
    "results['items'][0]['track']['id']"
   ]
  },
  {
   "cell_type": "code",
   "execution_count": 4,
   "id": "c99ace9c-04ff-4bbe-acbe-39a3a831936c",
   "metadata": {},
   "outputs": [
    {
     "data": {
      "text/plain": [
       "'1XlLhtgJjC4ROQZilBZAvw'"
      ]
     },
     "execution_count": 4,
     "metadata": {},
     "output_type": "execute_result"
    }
   ],
   "source": [
    "results['items'][0]['track']['artists'][0]['id']"
   ]
  },
  {
   "cell_type": "code",
   "execution_count": 5,
   "id": "5ef7cd86-661f-418d-b0a3-f1d52cf3e966",
   "metadata": {},
   "outputs": [
    {
     "name": "stdout",
     "output_type": "stream",
     "text": [
      "{'external_urls': {'spotify': 'https://open.spotify.com/artist/1XlLhtgJjC4ROQZilBZAvw'}, 'followers': {'href': None, 'total': 81193}, 'genres': [], 'href': 'https://api.spotify.com/v1/artists/1XlLhtgJjC4ROQZilBZAvw', 'id': '1XlLhtgJjC4ROQZilBZAvw', 'images': [{'height': 640, 'url': 'https://i.scdn.co/image/ab6761610000e5eb04e5893aefc2ae5e378b4994', 'width': 640}, {'height': 320, 'url': 'https://i.scdn.co/image/ab6761610000517404e5893aefc2ae5e378b4994', 'width': 320}, {'height': 160, 'url': 'https://i.scdn.co/image/ab6761610000f17804e5893aefc2ae5e378b4994', 'width': 160}], 'name': 'Nic D', 'popularity': 64, 'type': 'artist', 'uri': 'spotify:artist:1XlLhtgJjC4ROQZilBZAvw'}\n"
     ]
    }
   ],
   "source": [
    "artist_id = results['items'][0]['track']['artists'][0]['id']\n",
    "artist = sp.artist(artist_id)\n",
    "print(artist)"
   ]
  },
  {
   "cell_type": "code",
   "execution_count": 7,
   "id": "423dc4dd-ff2f-44f1-862e-ae8aa3691f2e",
   "metadata": {
    "tags": []
   },
   "outputs": [
    {
     "name": "stdout",
     "output_type": "stream",
     "text": [
      "{'artists': [{'external_urls': {'spotify': 'https://open.spotify.com/artist/0OEYE03fBF2VoTBxGuaUxL'}, 'followers': {'href': None, 'total': 121872}, 'genres': ['sad rap', 'social media pop'], 'href': 'https://api.spotify.com/v1/artists/0OEYE03fBF2VoTBxGuaUxL', 'id': '0OEYE03fBF2VoTBxGuaUxL', 'images': [{'height': 640, 'url': 'https://i.scdn.co/image/ab6761610000e5ebfb648f353213420ed04eaa79', 'width': 640}, {'height': 320, 'url': 'https://i.scdn.co/image/ab67616100005174fb648f353213420ed04eaa79', 'width': 320}, {'height': 160, 'url': 'https://i.scdn.co/image/ab6761610000f178fb648f353213420ed04eaa79', 'width': 160}], 'name': 'Chri$tian Gate$', 'popularity': 69, 'type': 'artist', 'uri': 'spotify:artist:0OEYE03fBF2VoTBxGuaUxL'}, {'external_urls': {'spotify': 'https://open.spotify.com/artist/5zixe6AbgXPqt4c1uSl94L'}, 'followers': {'href': None, 'total': 9863}, 'genres': [], 'href': 'https://api.spotify.com/v1/artists/5zixe6AbgXPqt4c1uSl94L', 'id': '5zixe6AbgXPqt4c1uSl94L', 'images': [{'height': 640, 'url': 'https://i.scdn.co/image/ab6761610000e5eb1f2e938d1b13c1617528d96d', 'width': 640}, {'height': 320, 'url': 'https://i.scdn.co/image/ab676161000051741f2e938d1b13c1617528d96d', 'width': 320}, {'height': 160, 'url': 'https://i.scdn.co/image/ab6761610000f1781f2e938d1b13c1617528d96d', 'width': 160}], 'name': 'Connor Price', 'popularity': 41, 'type': 'artist', 'uri': 'spotify:artist:5zixe6AbgXPqt4c1uSl94L'}, {'external_urls': {'spotify': 'https://open.spotify.com/artist/5G312D5mch8GZE501qpDIy'}, 'followers': {'href': None, 'total': 58501}, 'genres': ['upstate ny rap'], 'href': 'https://api.spotify.com/v1/artists/5G312D5mch8GZE501qpDIy', 'id': '5G312D5mch8GZE501qpDIy', 'images': [{'height': 640, 'url': 'https://i.scdn.co/image/ab6761610000e5eb717017978f7a7f615d680134', 'width': 640}, {'height': 320, 'url': 'https://i.scdn.co/image/ab67616100005174717017978f7a7f615d680134', 'width': 320}, {'height': 160, 'url': 'https://i.scdn.co/image/ab6761610000f178717017978f7a7f615d680134', 'width': 160}], 'name': 'Johnny 2 Phones', 'popularity': 51, 'type': 'artist', 'uri': 'spotify:artist:5G312D5mch8GZE501qpDIy'}, {'external_urls': {'spotify': 'https://open.spotify.com/artist/4PcesEvU9iICf7dwNt5B3l'}, 'followers': {'href': None, 'total': 36191}, 'genres': [], 'href': 'https://api.spotify.com/v1/artists/4PcesEvU9iICf7dwNt5B3l', 'id': '4PcesEvU9iICf7dwNt5B3l', 'images': [{'height': 640, 'url': 'https://i.scdn.co/image/ab6761610000e5eb03d5e85e6c86f5f1362dcabc', 'width': 640}, {'height': 320, 'url': 'https://i.scdn.co/image/ab6761610000517403d5e85e6c86f5f1362dcabc', 'width': 320}, {'height': 160, 'url': 'https://i.scdn.co/image/ab6761610000f17803d5e85e6c86f5f1362dcabc', 'width': 160}], 'name': 'Justus Bennetts', 'popularity': 58, 'type': 'artist', 'uri': 'spotify:artist:4PcesEvU9iICf7dwNt5B3l'}, {'external_urls': {'spotify': 'https://open.spotify.com/artist/5vGXVYudNgm9E7jhXMM0Ro'}, 'followers': {'href': None, 'total': 87467}, 'genres': ['indiana hip hop', 'indie pop rap', 'pop rap'], 'href': 'https://api.spotify.com/v1/artists/5vGXVYudNgm9E7jhXMM0Ro', 'id': '5vGXVYudNgm9E7jhXMM0Ro', 'images': [{'height': 640, 'url': 'https://i.scdn.co/image/ab6761610000e5ebe87e67258fe6cb8829776a6a', 'width': 640}, {'height': 320, 'url': 'https://i.scdn.co/image/ab67616100005174e87e67258fe6cb8829776a6a', 'width': 320}, {'height': 160, 'url': 'https://i.scdn.co/image/ab6761610000f178e87e67258fe6cb8829776a6a', 'width': 160}], 'name': 'Kid Quill', 'popularity': 59, 'type': 'artist', 'uri': 'spotify:artist:5vGXVYudNgm9E7jhXMM0Ro'}, {'external_urls': {'spotify': 'https://open.spotify.com/artist/6zQRQ2jsbICny41g2fVT5U'}, 'followers': {'href': None, 'total': 35829}, 'genres': ['sad rap'], 'href': 'https://api.spotify.com/v1/artists/6zQRQ2jsbICny41g2fVT5U', 'id': '6zQRQ2jsbICny41g2fVT5U', 'images': [{'height': 640, 'url': 'https://i.scdn.co/image/ab6761610000e5ebaf26ea08509bcb34d918dbad', 'width': 640}, {'height': 320, 'url': 'https://i.scdn.co/image/ab67616100005174af26ea08509bcb34d918dbad', 'width': 320}, {'height': 160, 'url': 'https://i.scdn.co/image/ab6761610000f178af26ea08509bcb34d918dbad', 'width': 160}], 'name': 'Damien', 'popularity': 54, 'type': 'artist', 'uri': 'spotify:artist:6zQRQ2jsbICny41g2fVT5U'}, {'external_urls': {'spotify': 'https://open.spotify.com/artist/5G9kmDLg3OeUyj8KVBLzbu'}, 'followers': {'href': None, 'total': 429630}, 'genres': ['indie pop rap', 'pop rap', 'rap', 'rhode island rap'], 'href': 'https://api.spotify.com/v1/artists/5G9kmDLg3OeUyj8KVBLzbu', 'id': '5G9kmDLg3OeUyj8KVBLzbu', 'images': [{'height': 640, 'url': 'https://i.scdn.co/image/ab6761610000e5ebf30c7dae53da0dbc3e13c592', 'width': 640}, {'height': 320, 'url': 'https://i.scdn.co/image/ab67616100005174f30c7dae53da0dbc3e13c592', 'width': 320}, {'height': 160, 'url': 'https://i.scdn.co/image/ab6761610000f178f30c7dae53da0dbc3e13c592', 'width': 160}], 'name': 'mike.', 'popularity': 69, 'type': 'artist', 'uri': 'spotify:artist:5G9kmDLg3OeUyj8KVBLzbu'}, {'external_urls': {'spotify': 'https://open.spotify.com/artist/0PUc1lwaZpPJaMr0v4Gdvo'}, 'followers': {'href': None, 'total': 23607}, 'genres': ['christian hip hop', 'christian trap'], 'href': 'https://api.spotify.com/v1/artists/0PUc1lwaZpPJaMr0v4Gdvo', 'id': '0PUc1lwaZpPJaMr0v4Gdvo', 'images': [{'height': 640, 'url': 'https://i.scdn.co/image/ab6761610000e5eb6f75f2aed9f925f2e6c2c68c', 'width': 640}, {'height': 320, 'url': 'https://i.scdn.co/image/ab676161000051746f75f2aed9f925f2e6c2c68c', 'width': 320}, {'height': 160, 'url': 'https://i.scdn.co/image/ab6761610000f1786f75f2aed9f925f2e6c2c68c', 'width': 160}], 'name': 'Jon Keith', 'popularity': 53, 'type': 'artist', 'uri': 'spotify:artist:0PUc1lwaZpPJaMr0v4Gdvo'}, {'external_urls': {'spotify': 'https://open.spotify.com/artist/2HPqVfdPh9JkBSlFG5hK6h'}, 'followers': {'href': None, 'total': 27171}, 'genres': [], 'href': 'https://api.spotify.com/v1/artists/2HPqVfdPh9JkBSlFG5hK6h', 'id': '2HPqVfdPh9JkBSlFG5hK6h', 'images': [{'height': 640, 'url': 'https://i.scdn.co/image/ab6761610000e5ebda00ea320b4d0094b53f0728', 'width': 640}, {'height': 320, 'url': 'https://i.scdn.co/image/ab67616100005174da00ea320b4d0094b53f0728', 'width': 320}, {'height': 160, 'url': 'https://i.scdn.co/image/ab6761610000f178da00ea320b4d0094b53f0728', 'width': 160}], 'name': 'anees', 'popularity': 45, 'type': 'artist', 'uri': 'spotify:artist:2HPqVfdPh9JkBSlFG5hK6h'}, {'external_urls': {'spotify': 'https://open.spotify.com/artist/1sPm31qmcbk9EFoRCS8eRl'}, 'followers': {'href': None, 'total': 5078}, 'genres': ['christian hip hop', 'christian trap'], 'href': 'https://api.spotify.com/v1/artists/1sPm31qmcbk9EFoRCS8eRl', 'id': '1sPm31qmcbk9EFoRCS8eRl', 'images': [{'height': 640, 'url': 'https://i.scdn.co/image/ab6761610000e5eb7edf764dbc20c39a6bfd9568', 'width': 640}, {'height': 320, 'url': 'https://i.scdn.co/image/ab676161000051747edf764dbc20c39a6bfd9568', 'width': 320}, {'height': 160, 'url': 'https://i.scdn.co/image/ab6761610000f1787edf764dbc20c39a6bfd9568', 'width': 160}], 'name': 'indie tribe', 'popularity': 49, 'type': 'artist', 'uri': 'spotify:artist:1sPm31qmcbk9EFoRCS8eRl'}, {'external_urls': {'spotify': 'https://open.spotify.com/artist/7naAJDAh7AZnf18YYfQruM'}, 'followers': {'href': None, 'total': 191110}, 'genres': ['alt z', 'electropop', 'pop'], 'href': 'https://api.spotify.com/v1/artists/7naAJDAh7AZnf18YYfQruM', 'id': '7naAJDAh7AZnf18YYfQruM', 'images': [{'height': 640, 'url': 'https://i.scdn.co/image/ab6761610000e5ebc84dd773b2ead4edc6378cbc', 'width': 640}, {'height': 320, 'url': 'https://i.scdn.co/image/ab67616100005174c84dd773b2ead4edc6378cbc', 'width': 320}, {'height': 160, 'url': 'https://i.scdn.co/image/ab6761610000f178c84dd773b2ead4edc6378cbc', 'width': 160}], 'name': 'Christian French', 'popularity': 65, 'type': 'artist', 'uri': 'spotify:artist:7naAJDAh7AZnf18YYfQruM'}, {'external_urls': {'spotify': 'https://open.spotify.com/artist/24qqDoA4BBXVnPOdHBjT54'}, 'followers': {'href': None, 'total': 42584}, 'genres': ['cincinnati rap', 'emo rap', 'sad rap'], 'href': 'https://api.spotify.com/v1/artists/24qqDoA4BBXVnPOdHBjT54', 'id': '24qqDoA4BBXVnPOdHBjT54', 'images': [{'height': 640, 'url': 'https://i.scdn.co/image/ab6761610000e5eb4dbb80fa8f58b51a4ad69922', 'width': 640}, {'height': 320, 'url': 'https://i.scdn.co/image/ab676161000051744dbb80fa8f58b51a4ad69922', 'width': 320}, {'height': 160, 'url': 'https://i.scdn.co/image/ab6761610000f1784dbb80fa8f58b51a4ad69922', 'width': 160}], 'name': 'Jack Kays', 'popularity': 59, 'type': 'artist', 'uri': 'spotify:artist:24qqDoA4BBXVnPOdHBjT54'}, {'external_urls': {'spotify': 'https://open.spotify.com/artist/2kCO8LXN1usaOPL3iEE28I'}, 'followers': {'href': None, 'total': 264135}, 'genres': ['modern indie pop'], 'href': 'https://api.spotify.com/v1/artists/2kCO8LXN1usaOPL3iEE28I', 'id': '2kCO8LXN1usaOPL3iEE28I', 'images': [{'height': 640, 'url': 'https://i.scdn.co/image/ab6761610000e5eb95c398a5b2af86a2da995a05', 'width': 640}, {'height': 320, 'url': 'https://i.scdn.co/image/ab6761610000517495c398a5b2af86a2da995a05', 'width': 320}, {'height': 160, 'url': 'https://i.scdn.co/image/ab6761610000f17895c398a5b2af86a2da995a05', 'width': 160}], 'name': 'Tai Verdes', 'popularity': 75, 'type': 'artist', 'uri': 'spotify:artist:2kCO8LXN1usaOPL3iEE28I'}, {'external_urls': {'spotify': 'https://open.spotify.com/artist/2d8NsBa8O4C6bgQatFP5V4'}, 'followers': {'href': None, 'total': 54575}, 'genres': ['christian hip hop', 'christian trap', 'nashville hip hop'], 'href': 'https://api.spotify.com/v1/artists/2d8NsBa8O4C6bgQatFP5V4', 'id': '2d8NsBa8O4C6bgQatFP5V4', 'images': [{'height': 640, 'url': 'https://i.scdn.co/image/ab6761610000e5ebdd805a61115161c54ef93e10', 'width': 640}, {'height': 320, 'url': 'https://i.scdn.co/image/ab67616100005174dd805a61115161c54ef93e10', 'width': 320}, {'height': 160, 'url': 'https://i.scdn.co/image/ab6761610000f178dd805a61115161c54ef93e10', 'width': 160}], 'name': 'nobigdyl.', 'popularity': 57, 'type': 'artist', 'uri': 'spotify:artist:2d8NsBa8O4C6bgQatFP5V4'}, {'external_urls': {'spotify': 'https://open.spotify.com/artist/2fPsJqR6zfoHatC1eFr0eQ'}, 'followers': {'href': None, 'total': 111491}, 'genres': [], 'href': 'https://api.spotify.com/v1/artists/2fPsJqR6zfoHatC1eFr0eQ', 'id': '2fPsJqR6zfoHatC1eFr0eQ', 'images': [{'height': 640, 'url': 'https://i.scdn.co/image/ab6761610000e5eb9d646eac4b8f7ffaa7e3e9c5', 'width': 640}, {'height': 320, 'url': 'https://i.scdn.co/image/ab676161000051749d646eac4b8f7ffaa7e3e9c5', 'width': 320}, {'height': 160, 'url': 'https://i.scdn.co/image/ab6761610000f1789d646eac4b8f7ffaa7e3e9c5', 'width': 160}], 'name': 'Livingston', 'popularity': 57, 'type': 'artist', 'uri': 'spotify:artist:2fPsJqR6zfoHatC1eFr0eQ'}, {'external_urls': {'spotify': 'https://open.spotify.com/artist/3zSrc5vUlUxyDdS0KrxFJO'}, 'followers': {'href': None, 'total': 35149}, 'genres': ['christian hip hop', 'christian pop', 'christian trap'], 'href': 'https://api.spotify.com/v1/artists/3zSrc5vUlUxyDdS0KrxFJO', 'id': '3zSrc5vUlUxyDdS0KrxFJO', 'images': [{'height': 640, 'url': 'https://i.scdn.co/image/ab6761610000e5eb7ac1f7b250e1cde66b16777b', 'width': 640}, {'height': 320, 'url': 'https://i.scdn.co/image/ab676161000051747ac1f7b250e1cde66b16777b', 'width': 320}, {'height': 160, 'url': 'https://i.scdn.co/image/ab6761610000f1787ac1f7b250e1cde66b16777b', 'width': 160}], 'name': 'Hulvey', 'popularity': 57, 'type': 'artist', 'uri': 'spotify:artist:3zSrc5vUlUxyDdS0KrxFJO'}, {'external_urls': {'spotify': 'https://open.spotify.com/artist/0yXuo2N8r6dzzGgnLNLGZm'}, 'followers': {'href': None, 'total': 8755}, 'genres': [], 'href': 'https://api.spotify.com/v1/artists/0yXuo2N8r6dzzGgnLNLGZm', 'id': '0yXuo2N8r6dzzGgnLNLGZm', 'images': [{'height': 640, 'url': 'https://i.scdn.co/image/ab6761610000e5ebe478a353a868ce1e0563bc40', 'width': 640}, {'height': 320, 'url': 'https://i.scdn.co/image/ab67616100005174e478a353a868ce1e0563bc40', 'width': 320}, {'height': 160, 'url': 'https://i.scdn.co/image/ab6761610000f178e478a353a868ce1e0563bc40', 'width': 160}], 'name': 'sammy rash', 'popularity': 51, 'type': 'artist', 'uri': 'spotify:artist:0yXuo2N8r6dzzGgnLNLGZm'}, {'external_urls': {'spotify': 'https://open.spotify.com/artist/1PDE2MIJ4M6uvFJDrslazf'}, 'followers': {'href': None, 'total': 209191}, 'genres': ['indie pop rap', 'pop rap', 'sad rap'], 'href': 'https://api.spotify.com/v1/artists/1PDE2MIJ4M6uvFJDrslazf', 'id': '1PDE2MIJ4M6uvFJDrslazf', 'images': [{'height': 640, 'url': 'https://i.scdn.co/image/ab6761610000e5eb34c393a7ed8ac106d228ae02', 'width': 640}, {'height': 320, 'url': 'https://i.scdn.co/image/ab6761610000517434c393a7ed8ac106d228ae02', 'width': 320}, {'height': 160, 'url': 'https://i.scdn.co/image/ab6761610000f17834c393a7ed8ac106d228ae02', 'width': 160}], 'name': 'Ryan Caraveo', 'popularity': 64, 'type': 'artist', 'uri': 'spotify:artist:1PDE2MIJ4M6uvFJDrslazf'}, {'external_urls': {'spotify': 'https://open.spotify.com/artist/6eVs4QqEr3UUUWVZvp0gQa'}, 'followers': {'href': None, 'total': 13}, 'genres': [], 'href': 'https://api.spotify.com/v1/artists/6eVs4QqEr3UUUWVZvp0gQa', 'id': '6eVs4QqEr3UUUWVZvp0gQa', 'images': [{'height': 640, 'url': 'https://i.scdn.co/image/ab67616d0000b2736db8acad12a71e383f8be2e4', 'width': 640}, {'height': 300, 'url': 'https://i.scdn.co/image/ab67616d00001e026db8acad12a71e383f8be2e4', 'width': 300}, {'height': 64, 'url': 'https://i.scdn.co/image/ab67616d000048516db8acad12a71e383f8be2e4', 'width': 64}], 'name': 'KnownSense', 'popularity': 15, 'type': 'artist', 'uri': 'spotify:artist:6eVs4QqEr3UUUWVZvp0gQa'}, {'external_urls': {'spotify': 'https://open.spotify.com/artist/5OyoCvyau6TiGqcCKnDBCR'}, 'followers': {'href': None, 'total': 136031}, 'genres': ['emo rap', 'indie cafe pop', 'pop r&b', 'sad rap'], 'href': 'https://api.spotify.com/v1/artists/5OyoCvyau6TiGqcCKnDBCR', 'id': '5OyoCvyau6TiGqcCKnDBCR', 'images': [{'height': 640, 'url': 'https://i.scdn.co/image/ab6761610000e5eb4073e4658cda79e21d4a5c9e', 'width': 640}, {'height': 320, 'url': 'https://i.scdn.co/image/ab676161000051744073e4658cda79e21d4a5c9e', 'width': 320}, {'height': 160, 'url': 'https://i.scdn.co/image/ab6761610000f1784073e4658cda79e21d4a5c9e', 'width': 160}], 'name': 'Ollie', 'popularity': 62, 'type': 'artist', 'uri': 'spotify:artist:5OyoCvyau6TiGqcCKnDBCR'}]}\n"
     ]
    }
   ],
   "source": [
    "related_artists = sp.artist_related_artists(artist_id)\n",
    "print(related_artists)"
   ]
  },
  {
   "cell_type": "code",
   "execution_count": 11,
   "id": "5b1fe34f-c78b-4905-a86d-044fcad373c9",
   "metadata": {},
   "outputs": [
    {
     "data": {
      "text/plain": [
       "['sad rap', 'social media pop']"
      ]
     },
     "execution_count": 11,
     "metadata": {},
     "output_type": "execute_result"
    }
   ],
   "source": [
    "# get all genres from related artists\n",
    "related_genres = []\n",
    "related_artists['artists'][0]['genres']"
   ]
  },
  {
   "cell_type": "code",
   "execution_count": 12,
   "id": "76bb5e7b-a98d-419d-bc73-df8c08a12d1c",
   "metadata": {},
   "outputs": [
    {
     "name": "stdout",
     "output_type": "stream",
     "text": [
      "[{'danceability': 0.924, 'energy': 0.557, 'key': 2, 'loudness': -5.362, 'mode': 1, 'speechiness': 0.0466, 'acousticness': 0.175, 'instrumentalness': 0, 'liveness': 0.126, 'valence': 0.467, 'tempo': 120.007, 'type': 'audio_features', 'id': '5tWCP4u6SkJhlELH8WQxUR', 'uri': 'spotify:track:5tWCP4u6SkJhlELH8WQxUR', 'track_href': 'https://api.spotify.com/v1/tracks/5tWCP4u6SkJhlELH8WQxUR', 'analysis_url': 'https://api.spotify.com/v1/audio-analysis/5tWCP4u6SkJhlELH8WQxUR', 'duration_ms': 153297, 'time_signature': 4}]\n"
     ]
    }
   ],
   "source": [
    "# get audio features\n",
    "audio_features = sp.audio_features([results['items'][0]['track']['id']])\n",
    "print(audio_features)"
   ]
  }
 ],
 "metadata": {
  "kernelspec": {
   "display_name": "Python (Spotipy)",
   "language": "python",
   "name": "spotify"
  },
  "language_info": {
   "codemirror_mode": {
    "name": "ipython",
    "version": 3
   },
   "file_extension": ".py",
   "mimetype": "text/x-python",
   "name": "python",
   "nbconvert_exporter": "python",
   "pygments_lexer": "ipython3",
   "version": "3.6.13"
  }
 },
 "nbformat": 4,
 "nbformat_minor": 5
}
