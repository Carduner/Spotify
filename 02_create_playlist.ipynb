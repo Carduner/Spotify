{
 "cells": [
  {
   "cell_type": "code",
   "execution_count": 1,
   "id": "34e60082-bd4a-4236-a213-1c9e204c9cd9",
   "metadata": {},
   "outputs": [],
   "source": [
    "import spotipy\n",
    "import pandas as pd\n",
    "import os\n",
    "%run './credentials/settings.py'\n",
    "from spotipy.oauth2 import SpotifyOAuth\n",
    "\n",
    "scope = \"playlist-modify-public\"\n",
    "sp = spotipy.Spotify(auth_manager=SpotifyOAuth(client_id=os.getenv(\"SPOTIPY_CLIENT_ID\"),\n",
    "                                               client_secret=os.getenv(\"SPOTIPY_CLIENT_SECRET\"),\n",
    "                                               redirect_uri=os.getenv('SPOTIPY_REDIRECT_URI_PLAYLIST'),\n",
    "                                               scope=scope))"
   ]
  },
  {
   "cell_type": "code",
   "execution_count": 2,
   "id": "357bdf6b-06fc-41be-91ec-f8d8356dc6a6",
   "metadata": {},
   "outputs": [],
   "source": [
    "user_id = '1254819383'\n",
    "recommended = sp.user_playlist_create(user_id,'stay_recommender')"
   ]
  },
  {
   "cell_type": "code",
   "execution_count": 3,
   "id": "20c4e41d-b3aa-4f15-912d-e2369f3ad234",
   "metadata": {},
   "outputs": [
    {
     "data": {
      "text/html": [
       "<div>\n",
       "<style scoped>\n",
       "    .dataframe tbody tr th:only-of-type {\n",
       "        vertical-align: middle;\n",
       "    }\n",
       "\n",
       "    .dataframe tbody tr th {\n",
       "        vertical-align: top;\n",
       "    }\n",
       "\n",
       "    .dataframe thead th {\n",
       "        text-align: right;\n",
       "    }\n",
       "</style>\n",
       "<table border=\"1\" class=\"dataframe\">\n",
       "  <thead>\n",
       "    <tr style=\"text-align: right;\">\n",
       "      <th></th>\n",
       "      <th>name</th>\n",
       "      <th>id</th>\n",
       "      <th>sum</th>\n",
       "      <th>popularity</th>\n",
       "    </tr>\n",
       "    <tr>\n",
       "      <th>artists</th>\n",
       "      <th></th>\n",
       "      <th></th>\n",
       "      <th></th>\n",
       "      <th></th>\n",
       "    </tr>\n",
       "  </thead>\n",
       "  <tbody>\n",
       "    <tr>\n",
       "      <th>['Belly', 'The Weeknd']</th>\n",
       "      <td>Might Not</td>\n",
       "      <td>5e9aFSdnkQUrm5y8Dhw0qN</td>\n",
       "      <td>0.999953</td>\n",
       "      <td>65</td>\n",
       "    </tr>\n",
       "    <tr>\n",
       "      <th>['Comethazine']</th>\n",
       "      <td>Walk</td>\n",
       "      <td>21kOVEG3bDCVphKhXL8XmQ</td>\n",
       "      <td>0.999951</td>\n",
       "      <td>68</td>\n",
       "    </tr>\n",
       "    <tr>\n",
       "      <th>['Chief Keef', 'Soulja Boy']</th>\n",
       "      <td>Save That Shit</td>\n",
       "      <td>0uATCc7skXRKGBYp4FHdBZ</td>\n",
       "      <td>0.999946</td>\n",
       "      <td>62</td>\n",
       "    </tr>\n",
       "    <tr>\n",
       "      <th>['OmenXIII']</th>\n",
       "      <td>LED</td>\n",
       "      <td>2XH2w3lHRhbZ9D5lUjVVRC</td>\n",
       "      <td>0.999930</td>\n",
       "      <td>46</td>\n",
       "    </tr>\n",
       "    <tr>\n",
       "      <th>['Lil Yachty', 'DaBaby', 'Drake']</th>\n",
       "      <td>Oprah’s Bank Account (Lil Yachty &amp; DaBaby feat...</td>\n",
       "      <td>7wsmIIm0xWmtP7TmACXkJn</td>\n",
       "      <td>0.999926</td>\n",
       "      <td>70</td>\n",
       "    </tr>\n",
       "  </tbody>\n",
       "</table>\n",
       "</div>"
      ],
      "text/plain": [
       "                                                                                name  \\\n",
       "artists                                                                                \n",
       "['Belly', 'The Weeknd']                                                    Might Not   \n",
       "['Comethazine']                                                                 Walk   \n",
       "['Chief Keef', 'Soulja Boy']                                          Save That Shit   \n",
       "['OmenXIII']                                                                     LED   \n",
       "['Lil Yachty', 'DaBaby', 'Drake']  Oprah’s Bank Account (Lil Yachty & DaBaby feat...   \n",
       "\n",
       "                                                       id       sum  \\\n",
       "artists                                                               \n",
       "['Belly', 'The Weeknd']            5e9aFSdnkQUrm5y8Dhw0qN  0.999953   \n",
       "['Comethazine']                    21kOVEG3bDCVphKhXL8XmQ  0.999951   \n",
       "['Chief Keef', 'Soulja Boy']       0uATCc7skXRKGBYp4FHdBZ  0.999946   \n",
       "['OmenXIII']                       2XH2w3lHRhbZ9D5lUjVVRC  0.999930   \n",
       "['Lil Yachty', 'DaBaby', 'Drake']  7wsmIIm0xWmtP7TmACXkJn  0.999926   \n",
       "\n",
       "                                   popularity  \n",
       "artists                                        \n",
       "['Belly', 'The Weeknd']                    65  \n",
       "['Comethazine']                            68  \n",
       "['Chief Keef', 'Soulja Boy']               62  \n",
       "['OmenXIII']                               46  \n",
       "['Lil Yachty', 'DaBaby', 'Drake']          70  "
      ]
     },
     "execution_count": 3,
     "metadata": {},
     "output_type": "execute_result"
    }
   ],
   "source": [
    "# read in recommended songs df\n",
    "df = pd.read_csv('data/recommended_playlist_0712.csv',index_col=0)\n",
    "df.head()"
   ]
  },
  {
   "cell_type": "code",
   "execution_count": 4,
   "id": "f1c233a4-4c26-49f7-a6dd-02aa85a9065d",
   "metadata": {},
   "outputs": [],
   "source": [
    "# create playlist but add stay back in to the first track\n",
    "result = sp.playlist_add_items(recommended['id'],items=['5HCyWlXZPP0y6Gqq8TgA20']+df.id.values.tolist())"
   ]
  }
 ],
 "metadata": {
  "kernelspec": {
   "display_name": "Python (Spotipy)",
   "language": "python",
   "name": "spotify"
  },
  "language_info": {
   "codemirror_mode": {
    "name": "ipython",
    "version": 3
   },
   "file_extension": ".py",
   "mimetype": "text/x-python",
   "name": "python",
   "nbconvert_exporter": "python",
   "pygments_lexer": "ipython3",
   "version": "3.6.13"
  }
 },
 "nbformat": 4,
 "nbformat_minor": 5
}
