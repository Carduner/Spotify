{
 "cells": [
  {
   "cell_type": "code",
   "execution_count": 1,
   "id": "34e60082-bd4a-4236-a213-1c9e204c9cd9",
   "metadata": {},
   "outputs": [],
   "source": [
    "import spotipy\n",
    "import pandas as pd\n",
    "import os\n",
    "%run './credentials/settings.py'\n",
    "from spotipy.oauth2 import SpotifyOAuth\n",
    "\n",
    "scope = \"playlist-modify-public\"\n",
    "sp = spotipy.Spotify(auth_manager=SpotifyOAuth(client_id=os.getenv(\"SPOTIPY_CLIENT_ID\"),\n",
    "                                               client_secret=os.getenv(\"SPOTIPY_CLIENT_SECRET\"),\n",
    "                                               redirect_uri=os.getenv('SPOTIPY_REDIRECT_URI_PLAYLIST'),\n",
    "                                               scope=scope))"
   ]
  },
  {
   "cell_type": "code",
   "execution_count": 2,
   "id": "357bdf6b-06fc-41be-91ec-f8d8356dc6a6",
   "metadata": {},
   "outputs": [],
   "source": [
    "user_id = '1254819383'\n",
    "recommended = sp.user_playlist_create(user_id,'recommender1')"
   ]
  },
  {
   "cell_type": "code",
   "execution_count": 3,
   "id": "fbcd1559-0323-4be6-b34e-c22e088a3f35",
   "metadata": {},
   "outputs": [
    {
     "data": {
      "text/plain": [
       "{'collaborative': False,\n",
       " 'description': '',\n",
       " 'external_urls': {'spotify': 'https://open.spotify.com/playlist/0wFkiqvnYREYPg7NFMCkJ7'},\n",
       " 'followers': {'href': None, 'total': 0},\n",
       " 'href': 'https://api.spotify.com/v1/playlists/0wFkiqvnYREYPg7NFMCkJ7',\n",
       " 'id': '0wFkiqvnYREYPg7NFMCkJ7',\n",
       " 'images': [],\n",
       " 'name': 'recommender1',\n",
       " 'owner': {'display_name': 'Max Carduner',\n",
       "  'external_urls': {'spotify': 'https://open.spotify.com/user/1254819383'},\n",
       "  'href': 'https://api.spotify.com/v1/users/1254819383',\n",
       "  'id': '1254819383',\n",
       "  'type': 'user',\n",
       "  'uri': 'spotify:user:1254819383'},\n",
       " 'primary_color': None,\n",
       " 'public': True,\n",
       " 'snapshot_id': 'MSwxNTVlMjBkNWFjNDhmMDZlMzQwYzY2YTc5NmY2ZTJmZmM1M2UzZmU0',\n",
       " 'tracks': {'href': 'https://api.spotify.com/v1/playlists/0wFkiqvnYREYPg7NFMCkJ7/tracks',\n",
       "  'items': [],\n",
       "  'limit': 100,\n",
       "  'next': None,\n",
       "  'offset': 0,\n",
       "  'previous': None,\n",
       "  'total': 0},\n",
       " 'type': 'playlist',\n",
       " 'uri': 'spotify:playlist:0wFkiqvnYREYPg7NFMCkJ7'}"
      ]
     },
     "execution_count": 3,
     "metadata": {},
     "output_type": "execute_result"
    }
   ],
   "source": [
    "recommended"
   ]
  },
  {
   "cell_type": "code",
   "execution_count": 5,
   "id": "20c4e41d-b3aa-4f15-912d-e2369f3ad234",
   "metadata": {},
   "outputs": [
    {
     "data": {
      "text/html": [
       "<div>\n",
       "<style scoped>\n",
       "    .dataframe tbody tr th:only-of-type {\n",
       "        vertical-align: middle;\n",
       "    }\n",
       "\n",
       "    .dataframe tbody tr th {\n",
       "        vertical-align: top;\n",
       "    }\n",
       "\n",
       "    .dataframe thead th {\n",
       "        text-align: right;\n",
       "    }\n",
       "</style>\n",
       "<table border=\"1\" class=\"dataframe\">\n",
       "  <thead>\n",
       "    <tr style=\"text-align: right;\">\n",
       "      <th></th>\n",
       "      <th>id</th>\n",
       "      <th>name</th>\n",
       "      <th>artists</th>\n",
       "      <th>sum</th>\n",
       "    </tr>\n",
       "  </thead>\n",
       "  <tbody>\n",
       "    <tr>\n",
       "      <th>113013</th>\n",
       "      <td>4XgpXhvf9JBbKPtX84DFN7</td>\n",
       "      <td>Sierra Leone</td>\n",
       "      <td>['Frank Ocean']</td>\n",
       "      <td>18.973857</td>\n",
       "    </tr>\n",
       "    <tr>\n",
       "      <th>303921</th>\n",
       "      <td>1HwbgJAU9PZ7YbzKgVgoIF</td>\n",
       "      <td>Sierra Leone</td>\n",
       "      <td>['Frank Ocean']</td>\n",
       "      <td>18.973857</td>\n",
       "    </tr>\n",
       "    <tr>\n",
       "      <th>73315</th>\n",
       "      <td>01XoxF27D3Hdz4AnvczcvY</td>\n",
       "      <td>Push It - Radio Version</td>\n",
       "      <td>['Salt-N-Pepa']</td>\n",
       "      <td>18.973801</td>\n",
       "    </tr>\n",
       "    <tr>\n",
       "      <th>232187</th>\n",
       "      <td>7Cw7lE5VJt4avuE1xjeM4q</td>\n",
       "      <td>Candy Shop</td>\n",
       "      <td>['50 Cent', 'Olivia']</td>\n",
       "      <td>18.973741</td>\n",
       "    </tr>\n",
       "    <tr>\n",
       "      <th>89182</th>\n",
       "      <td>3BtuIIrQlkujKPuWF2B85z</td>\n",
       "      <td>Too Good</td>\n",
       "      <td>['Drake', 'Rihanna']</td>\n",
       "      <td>18.973605</td>\n",
       "    </tr>\n",
       "  </tbody>\n",
       "</table>\n",
       "</div>"
      ],
      "text/plain": [
       "                            id                     name  \\\n",
       "113013  4XgpXhvf9JBbKPtX84DFN7             Sierra Leone   \n",
       "303921  1HwbgJAU9PZ7YbzKgVgoIF             Sierra Leone   \n",
       "73315   01XoxF27D3Hdz4AnvczcvY  Push It - Radio Version   \n",
       "232187  7Cw7lE5VJt4avuE1xjeM4q               Candy Shop   \n",
       "89182   3BtuIIrQlkujKPuWF2B85z                 Too Good   \n",
       "\n",
       "                      artists        sum  \n",
       "113013        ['Frank Ocean']  18.973857  \n",
       "303921        ['Frank Ocean']  18.973857  \n",
       "73315         ['Salt-N-Pepa']  18.973801  \n",
       "232187  ['50 Cent', 'Olivia']  18.973741  \n",
       "89182    ['Drake', 'Rihanna']  18.973605  "
      ]
     },
     "execution_count": 5,
     "metadata": {},
     "output_type": "execute_result"
    }
   ],
   "source": [
    "# read in recommended songs df\n",
    "df = pd.read_csv('data/recommended_playlist.csv',index_col=0)\n",
    "df.head()"
   ]
  },
  {
   "cell_type": "code",
   "execution_count": 6,
   "id": "f1c233a4-4c26-49f7-a6dd-02aa85a9065d",
   "metadata": {},
   "outputs": [],
   "source": [
    "result = sp.playlist_add_items(recommended['id'],items=df.id.values.tolist())"
   ]
  }
 ],
 "metadata": {
  "kernelspec": {
   "display_name": "Python (Spotipy)",
   "language": "python",
   "name": "spotify"
  },
  "language_info": {
   "codemirror_mode": {
    "name": "ipython",
    "version": 3
   },
   "file_extension": ".py",
   "mimetype": "text/x-python",
   "name": "python",
   "nbconvert_exporter": "python",
   "pygments_lexer": "ipython3",
   "version": "3.6.13"
  }
 },
 "nbformat": 4,
 "nbformat_minor": 5
}
